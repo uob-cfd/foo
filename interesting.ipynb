{
 "cells": [
  {
   "cell_type": "markdown",
   "id": "01bfbecf",
   "metadata": {},
   "source": [
    "# How interesting!\n",
    "\n",
    "As for nearly all your future exercises and homework, this notebook has some\n",
    "integrated tests, that check if you are on the right track, or whether you have\n",
    "the right answer."
   ]
  },
  {
   "cell_type": "markdown",
   "id": "3d228ce8",
   "metadata": {},
   "source": [
    "## Introducing OKpy\n",
    "\n",
    "The tests use a system called \"OKpy\", written by [John\n",
    "Denero](http://denero.org) and others in the data science team at Berkeley.\n",
    "\n",
    "To get started, run the cell below, to load the OKpy testing machinery:"
   ]
  },
  {
   "cell_type": "code",
   "execution_count": null,
   "id": "c892a12b",
   "metadata": {},
   "outputs": [],
   "source": [
    "# Load the OKpy test library and tests.\n",
    "from client.api.notebook import Notebook\n",
    "ok = Notebook('interesting.ok')"
   ]
  },
  {
   "cell_type": "markdown",
   "id": "42f7d7f5",
   "metadata": {},
   "source": [
    "In general, don't forget to execute the cells in the notebook, that we have\n",
    "written for you.   If you see an error about `ok` not being defined, further\n",
    "down in this notebook, then come back up to this cell above, and execute it.\n",
    "\n",
    "To give you an example of how this works, here's a question where you have to\n",
    "set the variable `a` to have the value 3.  Don't do that yet though.  First run the cell below, without making any changes."
   ]
  },
  {
   "cell_type": "code",
   "execution_count": null,
   "id": "acee3e1d",
   "metadata": {},
   "outputs": [],
   "source": [
    "#- In a bit, change the 0 to a 3.  Don't do that now though.\n",
    "a = 0"
   ]
  },
  {
   "cell_type": "markdown",
   "id": "a6586afc",
   "metadata": {},
   "source": [
    "Now run this cell.  It runs a series of tests on the variable `a`, to see if\n",
    "you've got the right answer.  It will usually check for common problems, and\n",
    "give you some hints.  In this case, of you haven't changed the value above yet,\n",
    "it should tell you.  Scroll through the messages you get to see any hints."
   ]
  },
  {
   "cell_type": "code",
   "execution_count": null,
   "id": "ffac20c7",
   "metadata": {},
   "outputs": [],
   "source": [
    "# Run this cell to test the value you defined above.\n",
    "_ = ok.grade('q_defining_a')"
   ]
  },
  {
   "cell_type": "markdown",
   "id": "4711098e",
   "metadata": {},
   "source": [
    "If you got an error saying something like `name 'ok' is not defined`, remember\n",
    "to go back and run the first cell in this notebook.\n",
    "\n",
    "Now go back to the cell defining `a` and change the value of `a` to 3.  *Re-run\n",
    "the cell* so `a` now has the value of 3.   Then re-run the test above.  It\n",
    "should pass."
   ]
  },
  {
   "cell_type": "markdown",
   "id": "4499691f",
   "metadata": {},
   "source": [
    "## Multiplication and power\n",
    "\n",
    "For this assignment, you will probably eventually need the *power* operator.\n",
    "\n",
    "As an introduction, the *multiplication* operator is the `*` sign, as in:"
   ]
  },
  {
   "cell_type": "code",
   "execution_count": null,
   "id": "e0c60786",
   "metadata": {},
   "outputs": [],
   "source": [
    "10.50 * 3"
   ]
  },
  {
   "cell_type": "markdown",
   "id": "745c3b12",
   "metadata": {},
   "source": [
    "It tells Python to multiply the values on the left by the value on the right.\n",
    "\n",
    "The *power* operator is `**`.  It works like this:"
   ]
  },
  {
   "cell_type": "code",
   "execution_count": null,
   "id": "957c5e7c",
   "metadata": {},
   "outputs": [],
   "source": [
    "2 ** 4"
   ]
  },
  {
   "cell_type": "markdown",
   "id": "f5acd41f",
   "metadata": {},
   "source": [
    "The line above tells Python to calculate the number to the left (here 2) *to\n",
    "the power of* the number to the right, here 4.  In other words, the calculation\n",
    "`2 ** 4` in Python is the same as:"
   ]
  },
  {
   "cell_type": "code",
   "execution_count": null,
   "id": "bd5104bd",
   "metadata": {},
   "outputs": [],
   "source": [
    "2 * 2 * 2 * 2"
   ]
  },
  {
   "cell_type": "markdown",
   "id": "75a0a37b",
   "metadata": {},
   "source": [
    "Likewise:"
   ]
  },
  {
   "cell_type": "code",
   "execution_count": null,
   "id": "a2e94b83",
   "metadata": {},
   "outputs": [],
   "source": [
    "3.5 ** 5"
   ]
  },
  {
   "cell_type": "markdown",
   "id": "126412e6",
   "metadata": {},
   "source": [
    "results in the same calculation as:"
   ]
  },
  {
   "cell_type": "code",
   "execution_count": null,
   "id": "5af5fbb7",
   "metadata": {},
   "outputs": [],
   "source": [
    "3.5 * 3.5 * 3.5 * 3.5 * 3.5"
   ]
  },
  {
   "cell_type": "markdown",
   "id": "f9f9461d",
   "metadata": {},
   "source": [
    "Call an expression with a number to the left and right of the `**` power\n",
    "operator : a *power expression*.  For example, `2 ** 4` is a power expression,\n",
    "`2 * 2` is not a power expression (it does not use `**`), and `2 ** 4 + 3 ** 9` contains two power expressions, `2 ** 4` and `3 ** 9`."
   ]
  },
  {
   "cell_type": "markdown",
   "id": "8ed6a927",
   "metadata": {},
   "source": [
    "Your first question - write 4 * 4 * 4 + 0.3 * 0.3 * 0.3 * 0.3 as the addition\n",
    "of two power expressions.  Replace the `...`s in the cell below to finish your\n",
    "answer."
   ]
  },
  {
   "cell_type": "code",
   "execution_count": null,
   "id": "5e4fd846",
   "metadata": {},
   "outputs": [],
   "source": [
    " ... ** ... + ... ** ..."
   ]
  },
  {
   "cell_type": "markdown",
   "id": "74daa4c3",
   "metadata": {},
   "source": [
    "When you have this right, you should see the same number as you get from the multiplication. Run the cell below to see the answer using multiplication."
   ]
  },
  {
   "cell_type": "code",
   "execution_count": null,
   "id": "aca1a369",
   "metadata": {},
   "outputs": [],
   "source": [
    "4 * 4 * 4 + 0.3 * 0.3 * 0.3 * 0.3"
   ]
  },
  {
   "cell_type": "markdown",
   "id": "50c94091",
   "metadata": {},
   "source": [
    "## Comments"
   ]
  },
  {
   "cell_type": "markdown",
   "id": "0f26ba2c",
   "metadata": {},
   "source": [
    "In what follows, you will see me using *comments*.  Comments start with a hash character - `#`.  Python ignores everything after the hash character.  This is useful to write text for you or others to read, inside your code."
   ]
  },
  {
   "cell_type": "markdown",
   "id": "5b35d774",
   "metadata": {},
   "source": [
    "For example, try executing the following cell."
   ]
  },
  {
   "cell_type": "code",
   "execution_count": null,
   "id": "b8d81e44",
   "metadata": {},
   "outputs": [],
   "source": [
    "# This is just a comment.  Python ignores it.  It's just for show."
   ]
  },
  {
   "cell_type": "markdown",
   "id": "87f8b0bd",
   "metadata": {},
   "source": [
    "Nothing happens - Python ignored everything after the hash character.\n"
   ]
  },
  {
   "cell_type": "markdown",
   "id": "bd19f52c",
   "metadata": {},
   "source": [
    "## The problem"
   ]
  },
  {
   "cell_type": "markdown",
   "id": "d3904eb0",
   "metadata": {},
   "source": [
    "The problem is my bank.\n",
    "\n",
    "At the beginning of this year, I have a credit card debt of £500.  Call this\n",
    "year the *first year*, or *year 1*.\n",
    "\n",
    "At the moment, the bank will charge me 10% interest per year.\n",
    "\n",
    "At the end of the first year, the bank will add 10% to my current debt of\n",
    "£500, so my new debt, at the start of the second year, will be £550.\n",
    "\n",
    "At the end of the second year, the bank will add 10% of my debt of £550.  10%\n",
    "of £550 is £55, so my debt at the start of the third year is £605.\n",
    "\n",
    "| Year | Starting debt | 10% interest |\n",
    "|------|---------------|--------------|\n",
    "| 1    | 500           | 50           |\n",
    "| 2    | 550           | 55           |\n",
    "| 3    | 605           | 60.5         |\n",
    "\n",
    "Let's give my original debt amount, a *name* - \"my_debt\"."
   ]
  },
  {
   "cell_type": "code",
   "execution_count": null,
   "id": "9d2eb663",
   "metadata": {},
   "outputs": [],
   "source": [
    "# This is the amount I owe at the beginning of the first year.\n",
    "my_debt = 500"
   ]
  },
  {
   "cell_type": "markdown",
   "id": "a76ce8e1",
   "metadata": {},
   "source": [
    "A variable is a *name attached to a value*.  In this case the name is \"my_debt\"\n",
    "and the value attached to \"my_debt\" is 500.  `my_debt` is a variable.\n",
    "\n",
    "The bank charges 10% interest per year.  Put another way, they calculate the\n",
    "interest by multiplying my current debt by 0.1.  Let's give that a name too."
   ]
  },
  {
   "cell_type": "code",
   "execution_count": null,
   "id": "8d497789",
   "metadata": {},
   "outputs": [],
   "source": [
    "interest_rate = 0.1"
   ]
  },
  {
   "cell_type": "markdown",
   "id": "109d0d41",
   "metadata": {},
   "source": [
    "When they apply the interest, at the end of the year, the amount of interest is\n",
    "therefore:"
   ]
  },
  {
   "cell_type": "code",
   "execution_count": null,
   "id": "c0062368",
   "metadata": {},
   "outputs": [],
   "source": [
    "interest = my_debt * interest_rate\n",
    "interest"
   ]
  },
  {
   "cell_type": "markdown",
   "id": "5162dba6",
   "metadata": {},
   "source": [
    "Then my total new debt at the end of the first year will be:"
   ]
  },
  {
   "cell_type": "code",
   "execution_count": null,
   "id": "59c024f4",
   "metadata": {},
   "outputs": [],
   "source": [
    "debt_one_year = my_debt + interest\n",
    "debt_one_year"
   ]
  },
  {
   "cell_type": "markdown",
   "id": "f2c0fc2c",
   "metadata": {},
   "source": [
    "There is a short cut to calculate my total debt after one year.\n",
    "\n",
    "Remember the total debt is the original debt plus interest, which is `my_debt +\n",
    "my_debt * interest_rate`.  So, I could also write this as:"
   ]
  },
  {
   "cell_type": "code",
   "execution_count": null,
   "id": "a582b368",
   "metadata": {},
   "outputs": [],
   "source": [
    "(my_debt * 1) + (my_debt * interest_rate)"
   ]
  },
  {
   "cell_type": "markdown",
   "id": "0b3467d6",
   "metadata": {},
   "source": [
    "All I did there was multiply `my_debt` by 1, which gives `my_debt`.\n",
    "\n",
    "Because of the way that multiplication works, I could rearrange the numbers\n",
    "in the cell above, like this, to get the same answer:"
   ]
  },
  {
   "cell_type": "code",
   "execution_count": null,
   "id": "21251bcc",
   "metadata": {},
   "outputs": [],
   "source": [
    "my_debt * (1 + interest_rate)"
   ]
  },
  {
   "cell_type": "markdown",
   "id": "28afe95a",
   "metadata": {},
   "source": [
    "So, we can make a new variable `debt_increaser` that is equal to `1 +\n",
    "interest_rate` (as above):"
   ]
  },
  {
   "cell_type": "code",
   "execution_count": null,
   "id": "ed282f06",
   "metadata": {},
   "outputs": [],
   "source": [
    "debt_increaser = 1 + interest_rate\n",
    "debt_increaser"
   ]
  },
  {
   "cell_type": "markdown",
   "id": "2b33b7e9",
   "metadata": {},
   "source": [
    "This variable allows me to calculate `my_debt + my_debt * interest_rate` in a\n",
    "more compact way, like this:"
   ]
  },
  {
   "cell_type": "code",
   "execution_count": null,
   "id": "ba51c930",
   "metadata": {},
   "outputs": [],
   "source": [
    "my_debt * debt_increaser"
   ]
  },
  {
   "cell_type": "markdown",
   "id": "b96cbf17",
   "metadata": {},
   "source": [
    "Because of the definition of `debt_increaser` above, this is mathematically\n",
    "equal to `my_debt * (1 + interest_rate)`, which in turn is mathematically equal\n",
    "to `my_debt * 1 + my_debt * interest_rate` which is `my_debt + my_debt *\n",
    "interest_rate` - the calculation we want.\n"
   ]
  },
  {
   "cell_type": "markdown",
   "id": "e95cdad3",
   "metadata": {},
   "source": [
    "## Now your turn\n",
    "\n",
    "Add your code to the cell below, and execute it, to show my total debt at the\n",
    "the end of the second year, after interest for that year has been applied.\n",
    "\n",
    "You should get the same answer as you see in the table above."
   ]
  },
  {
   "cell_type": "code",
   "execution_count": null,
   "id": "9272d87e",
   "metadata": {},
   "outputs": [],
   "source": [
    "#- Show my debt after two years.\n",
    "#- Fill in the ... to get the answer.\n",
    "debt_two_years = my_debt * debt_increaser ...\n",
    "# Show the debt at the end of two years.\n",
    "debt_two_years"
   ]
  },
  {
   "cell_type": "markdown",
   "id": "34d11b8f",
   "metadata": {},
   "source": [
    "Here is your first OKpy test to check if you have the right answer for the debt\n",
    "after two years.  Run the cell below.  If you have the right answer, it will\n",
    "tell you that you have \"100.0% passed\".  If you have the wrong answer, look at\n",
    "the messages, they will give some hints.  If you change the cell above, don't\n",
    "forget to re-run the cell, to put the new answer into the `debt_two_years`\n",
    "variable."
   ]
  },
  {
   "cell_type": "code",
   "execution_count": null,
   "id": "1c4d86c7",
   "metadata": {},
   "outputs": [],
   "source": [
    "_ = ok.grade('q_debt_two_years')"
   ]
  },
  {
   "cell_type": "markdown",
   "id": "7deff22c",
   "metadata": {},
   "source": [
    "Fill in the next cell, in the same way, to show my debt at the end of the third\n",
    "year (after interest has been applied)."
   ]
  },
  {
   "cell_type": "code",
   "execution_count": null,
   "id": "77b8bd0d",
   "metadata": {},
   "outputs": [],
   "source": [
    "#- Show my debt after three years.\n",
    "#- Fill in the ... to get the answer.\n",
    "debt_three_years = my_debt * debt_increaser ...\n",
    "# Show the debt at the end of three years.\n",
    "debt_three_years"
   ]
  },
  {
   "cell_type": "markdown",
   "id": "851c3046",
   "metadata": {},
   "source": [
    "You might want to use a pencil and paper to do the calculation that continues\n",
    "from the table above, to check your answer is correct.\n",
    "\n",
    "Here's an OKpy check for your answer.  Run it to check if you are correct."
   ]
  },
  {
   "cell_type": "code",
   "execution_count": null,
   "id": "dfefc7cc",
   "metadata": {},
   "outputs": [],
   "source": [
    "_ = ok.grade('q_debt_three_years')"
   ]
  },
  {
   "cell_type": "markdown",
   "id": "8094dd9d",
   "metadata": {},
   "source": [
    "Now show my debt at the end of 10 years - after interest has been applied. You\n",
    "might want to use the *power* operator `**` to do this.  Remember that, if I\n",
    "have some number `x` then `x ** 4` (read as \"x to the power of four\") is\n",
    "another way of writing `x * x * x * x`."
   ]
  },
  {
   "cell_type": "code",
   "execution_count": null,
   "id": "31d7ba85",
   "metadata": {},
   "outputs": [],
   "source": [
    "#- Show my debt after 10 years.\n",
    "#- Fill in the ... to get the answer.\n",
    "debt_ten_years = my_debt * debt_increaser ...\n",
    "# Show the debt at the end of 10 years.\n",
    "debt_ten_years"
   ]
  },
  {
   "cell_type": "markdown",
   "id": "d8ec8d4f",
   "metadata": {},
   "source": [
    "Check your answer with OKpy."
   ]
  },
  {
   "cell_type": "code",
   "execution_count": null,
   "id": "d8c0fd4e",
   "metadata": {},
   "outputs": [],
   "source": [
    "_ = ok.grade('q_debt_ten_years')"
   ]
  },
  {
   "cell_type": "markdown",
   "id": "846bf481",
   "metadata": {},
   "source": [
    "## An offer from the bank"
   ]
  },
  {
   "cell_type": "markdown",
   "id": "4f779e82",
   "metadata": {},
   "source": [
    "The bank has just sent me a friendly letter explaining that they are going to\n",
    "start charging me interest every week instead of every year.   They value me as\n",
    "a customer, so, instead of dividing the annual interest rate by 52, they are\n",
    "going to divide it by 53 instead.   But - is that a good offer?"
   ]
  },
  {
   "cell_type": "markdown",
   "id": "6eb91244",
   "metadata": {},
   "source": [
    "Here is their proposed weekly interest rate:"
   ]
  },
  {
   "cell_type": "code",
   "execution_count": null,
   "id": "2e05e699",
   "metadata": {},
   "outputs": [],
   "source": [
    "weekly_interest_rate = interest_rate / 53\n",
    "weekly_interest_rate"
   ]
  },
  {
   "cell_type": "markdown",
   "id": "d543b6b5",
   "metadata": {},
   "source": [
    "That corresponds to:"
   ]
  },
  {
   "cell_type": "code",
   "execution_count": null,
   "id": "52b671c1",
   "metadata": {},
   "outputs": [],
   "source": [
    "weekly_debt_increaser = 1 + weekly_interest_rate\n",
    "weekly_debt_increaser"
   ]
  },
  {
   "cell_type": "markdown",
   "id": "ba88fae2",
   "metadata": {},
   "source": [
    "So, starting from my original debt, I will owe this much after one week:"
   ]
  },
  {
   "cell_type": "code",
   "execution_count": null,
   "id": "1d386383",
   "metadata": {},
   "outputs": [],
   "source": [
    "# What I owe, after one week, on the new deal\n",
    "my_debt * weekly_debt_increaser"
   ]
  },
  {
   "cell_type": "markdown",
   "id": "815f4530",
   "metadata": {},
   "source": [
    "Fill in the cell below, to show how much I will owe after 52 weeks.  You will\n",
    "probably want `**` here again."
   ]
  },
  {
   "cell_type": "code",
   "execution_count": null,
   "id": "5b00b8c7",
   "metadata": {},
   "outputs": [],
   "source": [
    "#- Show my debt after 52 weeks, using the weekly interest rate.\n",
    "#- Fill in the ... to get the answer.\n",
    "debt_one_year_weekly = my_debt * weekly_debt_increaser ...\n",
    "# Show the total debt at the end of one year of weekly interest.\n",
    "debt_one_year_weekly"
   ]
  },
  {
   "cell_type": "markdown",
   "id": "f3192be1",
   "metadata": {},
   "source": [
    "Check your answer with OKpy."
   ]
  },
  {
   "cell_type": "code",
   "execution_count": null,
   "id": "6ed9f8ef",
   "metadata": {},
   "outputs": [],
   "source": [
    "_ = ok.grade('q_debt_one_year_weekly')"
   ]
  },
  {
   "cell_type": "markdown",
   "id": "6182b751",
   "metadata": {},
   "source": [
    "## For extra cool points\n",
    "\n",
    "Can you calculate roughly what the weekly interest rate has to be, in order to\n",
    "correspond to the 10% annual interest that I started with?   There are several\n",
    "ways to do this, but you can try trial and error, if you like.\n",
    "\n",
    "Here is an excellent moment to move over to your sheet of paper and think about\n",
    "what you need to do.\n",
    "\n",
    "**Note** - this is relatively hard, so don't worry if it is not obvious how to do this."
   ]
  },
  {
   "cell_type": "code",
   "execution_count": null,
   "id": "a98a80c1",
   "metadata": {},
   "outputs": [],
   "source": [
    "correct_weekly_rate = ...\n",
    "# Show the correct weekly rate corresponding to a yearly rate of 0.1\n",
    "correct_weekly_rate"
   ]
  },
  {
   "cell_type": "markdown",
   "id": "0a5aaccf",
   "metadata": {},
   "source": [
    "Check your estimate with the OKpy test:"
   ]
  },
  {
   "cell_type": "code",
   "execution_count": null,
   "id": "ce00e574",
   "metadata": {},
   "outputs": [],
   "source": [
    "_ = ok.grade('q_correct_weekly_rate')"
   ]
  }
 ],
 "metadata": {
  "jupytext": {
   "split_at_heading": true,
   "text_representation": {
    "extension": ".Rmd",
    "format_name": "rmarkdown",
    "format_version": "1.1",
    "jupytext_version": "1.2.4"
   }
  },
  "kernelspec": {
   "display_name": "Python 3",
   "language": "python",
   "name": "python3"
  }
 },
 "nbformat": 4,
 "nbformat_minor": 5
}
